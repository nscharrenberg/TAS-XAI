{
 "cells": [
  {
   "cell_type": "markdown",
   "metadata": {},
   "source": [
    "# Processing of the data based on the EDA"
   ]
  },
  {
   "cell_type": "code",
   "execution_count": 1,
   "metadata": {
    "collapsed": false
   },
   "outputs": [],
   "source": [
    "# Imports\n",
    "import pandas as pd"
   ]
  },
  {
   "cell_type": "code",
   "execution_count": 2,
   "metadata": {
    "collapsed": false
   },
   "outputs": [],
   "source": [
    "# Read the initial data\n",
    "data = pd.read_csv('data/data.csv', sep=\";\")\n",
    "\n",
    "# Combine the 'Enrolled' and 'Dropout' class in order to balance the data\n",
    "data.loc[data['Target'] != 'Graduate', 'Target'] = 'NotGraduate'\n",
    "data['Target'] = data['Target'].replace({'Graduate':1, 'NotGraduate':0})\n",
    "\n",
    "# Transforming the columns headers to something for python friendly\n",
    "formatted_data = data\n",
    "formatted_data.columns = [c.replace(' ', '_').replace('\\'', '').replace('(', '').replace(')', '').replace('/', '_').strip()\n",
    "                          for c in formatted_data.columns]"
   ]
  },
  {
   "cell_type": "code",
   "execution_count": 6,
   "metadata": {
    "collapsed": false
   },
   "outputs": [],
   "source": [
    "formatted_data.to_csv('data/formatted_data.csv', sep=';', index=False)"
   ]
  },
  {
   "cell_type": "markdown",
   "metadata": {
    "collapsed": false
   },
   "source": []
  },
  {
   "cell_type": "markdown",
   "metadata": {
    "collapsed": false
   },
   "source": [
    "## Pre-processing features\n",
    "\n",
    "| Action                                      | Status  |\n",
    "|---------------------------------------------|---------|\n",
    "| Merge target dropout with enrolled          | &#9745; |\n",
    "| Target To binary (0,1)                      | &#9745; |\n",
    "| Drop Nationality                            | &#9746; |\n",
    "| Drop Marital Status                         | &#9746; |\n",
    "| Drop Previous Qualification                 | &#9746; |\n",
    "| Normalize Previous Qualification grade      | &#63;   |\n",
    "| Split mean Previous Qualification grade     | &#63;   |\n",
    "| Investigate contribution Inflation Rate     | &#63;   |\n",
    "| Investigate contribution  GDP               | &#63;   |\n",
    "| Investigate contribution  Unemployment Rate | &#63;   |\n",
    "| Investigate contribution  Admission Grade   | &#63;   |\n",
    "| Feature Eng. Application Mode               | &#9746; |\n",
    "| drop Educational Special Needs              | &#9746; |\n",
    "| Feature Eng. Courses                        | &#9746; |\n",
    "| drop Daytime/Evening                        | &#9746; |\n",
    "| drop International                          | &#9746; |\n",
    "| Combine Mother-Father qualification         | &#9746; |\n",
    "| Combine Mother-Father occupation            | &#9746; |\n",
    "| Combine curricular units                    | &#9746; |\n",
    "| Application Order to dummies                | &#63;   |\n",
    "| drop Application Order                      | &#63;   |\n",
    "| drop / investigate contribution Debtor      | &#63;   |\n",
    "| drop / investigate Tuition Fees up to date  | &#63;   |\n",
    "| drop / investigate Gender                   | &#63;   |\n",
    "| Feature Eng. curricular units               | &#63;   |\n",
    "| Feature Eng. Age at Enrollment              | &#63;   |\n",
    "\n"
   ]
  }
 ],
 "metadata": {
  "kernelspec": {
   "display_name": "Python 3",
   "language": "python",
   "name": "python3"
  },
  "language_info": {
   "codemirror_mode": {
    "name": "ipython",
    "version": 2
   },
   "file_extension": ".py",
   "mimetype": "text/x-python",
   "name": "python",
   "nbconvert_exporter": "python",
   "pygments_lexer": "ipython2",
   "version": "2.7.6"
  }
 },
 "nbformat": 4,
 "nbformat_minor": 0
}
