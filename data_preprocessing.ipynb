{
 "cells": [
  {
   "cell_type": "code",
   "execution_count": 1,
   "outputs": [],
   "source": [
    "import pandas as pd"
   ],
   "metadata": {
    "collapsed": false
   }
  },
  {
   "cell_type": "code",
   "execution_count": 2,
   "outputs": [],
   "source": [
    "data = pd.read_csv('data/data.csv', sep=\";\")"
   ],
   "metadata": {
    "collapsed": false
   }
  },
  {
   "cell_type": "code",
   "execution_count": 3,
   "outputs": [],
   "source": [
    "data.loc[data['Target'] != 'Graduate', 'Target'] = 'NotGraduate'\n",
    "data['Target'] = data['Target'].replace({'Graduate':1, 'NotGraduate':0})"
   ],
   "metadata": {
    "collapsed": false
   }
  },
  {
   "cell_type": "code",
   "execution_count": 4,
   "outputs": [],
   "source": [
    "formatted_data = data\n",
    "formatted_data.columns = [c.replace(' ', '_').replace('\\'', '').replace('(', '').replace(')', '').replace('/', '_').strip()\n",
    "                          for c in formatted_data.columns]"
   ],
   "metadata": {
    "collapsed": false
   }
  },
  {
   "cell_type": "code",
   "execution_count": 6,
   "outputs": [],
   "source": [
    "formatted_data.to_csv('data/formatted_data.csv', sep=';', index=False)"
   ],
   "metadata": {
    "collapsed": false
   }
  },
  {
   "cell_type": "markdown",
   "source": [],
   "metadata": {
    "collapsed": false
   }
  },
  {
   "cell_type": "markdown",
   "source": [
    "## Pre-processing features\n",
    "\n",
    "| Action                                      | Status  |\n",
    "|---------------------------------------------|---------|\n",
    "| Merge target dropout with enrolled          | &#9745; |\n",
    "| Target To binary (0,1)                      | &#9745; |\n",
    "| Drop Nationality                            | &#9746; |\n",
    "| Drop Marital Status                         | &#9746; |\n",
    "| Drop Previous Qualification                 | &#9746; |\n",
    "| Normalize Previous Qualification grade      | &#63;   |\n",
    "| Split mean Previous Qualification grade     | &#63;   |\n",
    "| Investigate contribution Inflation Rate     | &#63;   |\n",
    "| Investigate contribution  GDP               | &#63;   |\n",
    "| Investigate contribution  Unemployment Rate | &#63;   |\n",
    "| Investigate contribution  Admission Grade   | &#63;   |\n",
    "| Feature Eng. Application Mode               | &#9746; |\n",
    "| drop Educational Special Needs              | &#9746; |\n",
    "| Feature Eng. Courses                        | &#9746; |\n",
    "| drop Daytime/Evening                        | &#9746; |\n",
    "| drop International                          | &#9746; |\n",
    "| Combine Mother-Father qualification         | &#9746; |\n",
    "| Combine Mother-Father occupation            | &#9746; |\n",
    "| Combine curricular units                    | &#9746; |\n",
    "| Application Order to dummies                | &#63;   |\n",
    "| drop Application Order                      | &#63;   |\n",
    "| drop / investigate contribution Debtor      | &#63;   |\n",
    "| drop / investigate Tuition Fees up to date  | &#63;   |\n",
    "| drop / investigate Gender                   | &#63;   |\n",
    "| Feature Eng. curricular units               | &#63;   |\n",
    "| Feature Eng. Age at Enrollment              | &#63;   |\n",
    "\n"
   ],
   "metadata": {
    "collapsed": false
   }
  }
 ],
 "metadata": {
  "kernelspec": {
   "display_name": "Python 3",
   "language": "python",
   "name": "python3"
  },
  "language_info": {
   "codemirror_mode": {
    "name": "ipython",
    "version": 2
   },
   "file_extension": ".py",
   "mimetype": "text/x-python",
   "name": "python",
   "nbconvert_exporter": "python",
   "pygments_lexer": "ipython2",
   "version": "2.7.6"
  }
 },
 "nbformat": 4,
 "nbformat_minor": 0
}
