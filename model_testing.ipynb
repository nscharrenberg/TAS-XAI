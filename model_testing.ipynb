{
 "cells": [
  {
   "cell_type": "code",
   "execution_count": 1,
   "metadata": {
    "collapsed": false,
    "ExecuteTime": {
     "end_time": "2024-03-19T21:30:43.353538Z",
     "start_time": "2024-03-19T21:30:42.494613Z"
    }
   },
   "outputs": [
    {
     "ename": "ModuleNotFoundError",
     "evalue": "No module named 'matplotlib'",
     "output_type": "error",
     "traceback": [
      "\u001B[0;31m---------------------------------------------------------------------------\u001B[0m",
      "\u001B[0;31mModuleNotFoundError\u001B[0m                       Traceback (most recent call last)",
      "Cell \u001B[0;32mIn[1], line 1\u001B[0m\n\u001B[0;32m----> 1\u001B[0m \u001B[38;5;28;01mimport\u001B[39;00m \u001B[38;5;21;01mmatplotlib\u001B[39;00m\u001B[38;5;21;01m.\u001B[39;00m\u001B[38;5;21;01mpyplot\u001B[39;00m \u001B[38;5;28;01mas\u001B[39;00m \u001B[38;5;21;01mplt\u001B[39;00m\n\u001B[1;32m      2\u001B[0m \u001B[38;5;28;01mimport\u001B[39;00m \u001B[38;5;21;01mnumpy\u001B[39;00m \u001B[38;5;28;01mas\u001B[39;00m \u001B[38;5;21;01mnp\u001B[39;00m\n\u001B[1;32m      3\u001B[0m \u001B[38;5;28;01mimport\u001B[39;00m \u001B[38;5;21;01mpandas\u001B[39;00m \u001B[38;5;28;01mas\u001B[39;00m \u001B[38;5;21;01mpd\u001B[39;00m\n",
      "\u001B[0;31mModuleNotFoundError\u001B[0m: No module named 'matplotlib'"
     ]
    }
   ],
   "source": [
    "import matplotlib.pyplot as plt\n",
    "import numpy as np\n",
    "import pandas as pd\n",
    "import xgboost as xgb\n",
    "from sklearn.model_selection import train_test_split\n",
    "from sklearn.tree import DecisionTreeClassifier, plot_tree\n",
    "from sklearn.ensemble import RandomForestClassifier\n",
    "from sklearn.linear_model import LogisticRegression\n",
    "from sklearn.metrics import roc_curve, auc\n",
    "from sklearn.model_selection import StratifiedKFold\n",
    "from sklearn.neural_network import MLPClassifier\n",
    "from sklearn.svm import SVC\n",
    "\n",
    "!pip install shap\n",
    "import shap"
   ]
  },
  {
   "cell_type": "markdown",
   "metadata": {
    "collapsed": false
   },
   "source": [
    "# MODELS"
   ]
  },
  {
   "cell_type": "code",
   "execution_count": null,
   "metadata": {
    "collapsed": false,
    "ExecuteTime": {
     "end_time": "2024-03-19T21:30:43.367669Z",
     "start_time": "2024-03-19T21:30:43.361659Z"
    }
   },
   "outputs": [],
   "source": [
    "# Load pre-processed data\n",
    "formatted_data = pd.read_csv('data/formatted_data.csv',sep=\";\")\n",
    "\n",
    "features = formatted_data.drop(columns=['Target'])\n",
    "target = formatted_data['Target']\n",
    "\n",
    "# Random Seed\n",
    "RANDOM_SEED = 42\n",
    "\n",
    "# k-Fold Validation\n",
    "k = 5\n",
    "cv = StratifiedKFold(n_splits=k, random_state=RANDOM_SEED, shuffle=True)"
   ]
  },
  {
   "cell_type": "markdown",
   "metadata": {
    "collapsed": false
   },
   "source": [
    "### ROC Plotting Function\n"
   ]
  },
  {
   "cell_type": "code",
   "execution_count": null,
   "metadata": {
    "collapsed": false,
    "ExecuteTime": {
     "start_time": "2024-03-19T21:30:43.368940Z"
    }
   },
   "outputs": [],
   "source": [
    "def plot_roc_curve(fprs, tprs, figsize=(14, 10)):\n",
    "    mean_fpr = np.linspace(0, 1, 100)\n",
    "    fig, ax = plt.subplots(figsize=figsize)\n",
    "\n",
    "    for i, (fpr, tpr) in enumerate(zip(fprs, tprs)):\n",
    "        roc_auc = auc(fpr, tpr)\n",
    "        ax.plot(fpr, tpr, lw=1, alpha=0.3,\n",
    "                label='ROC fold %d (AUC = %0.2f)' % (i, roc_auc))\n",
    "\n",
    "    ax.plot([0, 1], [0, 1], linestyle='--', lw=2, color='r',\n",
    "            label='Luck', alpha=.8)\n",
    "\n",
    "    mean_tpr = np.mean([np.interp(mean_fpr, fpr, tpr) for fpr, tpr in zip(fprs, tprs)], axis=0)\n",
    "    mean_auc = auc(mean_fpr, mean_tpr)\n",
    "    std_auc = np.std([auc(fpr, tpr) for fpr, tpr in zip(fprs, tprs)])\n",
    "    ax.plot(mean_fpr, mean_tpr, color='b',\n",
    "            label=r'Mean ROC (AUC = %0.2f $\\pm$ %0.2f)' % (mean_auc, std_auc),\n",
    "            lw=2, alpha=.8)\n",
    "\n",
    "    std_tpr = np.std([np.interp(mean_fpr, fpr, tpr) for fpr, tpr in zip(fprs, tprs)], axis=0)\n",
    "    tprs_upper = np.minimum(mean_tpr + std_tpr, 1)\n",
    "    tprs_lower = np.maximum(mean_tpr - std_tpr, 0)\n",
    "    ax.fill_between(mean_fpr, tprs_lower, tprs_upper, color='grey', alpha=.2,\n",
    "                    label=r'$\\pm$ 1 std. dev.')\n",
    "\n",
    "    ax.set_xlim([-0.05, 1.05])\n",
    "    ax.set_ylim([-0.05, 1.05])\n",
    "    ax.set_xlabel('False Positive Rate')\n",
    "    ax.set_ylabel('True Positive Rate')\n",
    "    ax.set_title('Receiver operating characteristic')\n",
    "    ax.legend(loc=\"lower right\")\n",
    "    plt.show()\n",
    "    return fig, ax"
   ]
  },
  {
   "cell_type": "code",
   "execution_count": null,
   "metadata": {
    "collapsed": false,
    "ExecuteTime": {
     "end_time": "2024-03-19T21:30:43.482124Z",
     "start_time": "2024-03-19T21:30:43.376742Z"
    }
   },
   "outputs": [],
   "source": [
    "def compute_roc_auc(clf, X, y, index):\n",
    "    y_predict = clf.predict_proba(X.iloc[index])[:, 1]\n",
    "    fpr, tpr, thresholds = roc_curve(y.iloc[index], y_predict)\n",
    "    auc_score = auc(fpr, tpr)\n",
    "    return fpr, tpr, auc_score"
   ]
  },
  {
   "cell_type": "code",
   "execution_count": null,
   "metadata": {
    "collapsed": false,
    "ExecuteTime": {
     "start_time": "2024-03-19T21:30:43.382876Z"
    }
   },
   "outputs": [],
   "source": [
    "def train_and_show_auc(clf, X, y):\n",
    "    fprs, tprs, scores = [], [], []\n",
    "\n",
    "    for (train, test), i in zip(cv.split(X, y), range(5)):\n",
    "        clf.fit(X.iloc[train], y.iloc[train])\n",
    "        _, _, auc_score_train = compute_roc_auc(clf, X, y, train)\n",
    "        fpr, tpr, auc_score = compute_roc_auc(clf, X, y, test)\n",
    "        scores.append((auc_score_train, auc_score))\n",
    "        fprs.append(fpr)\n",
    "        tprs.append(tpr)\n",
    "\n",
    "    plot_roc_curve(fprs, tprs)\n",
    "    return pd.DataFrame(scores, columns=['AUC Train', 'AUC Test'])"
   ]
  },
  {
   "cell_type": "markdown",
   "metadata": {
    "collapsed": false
   },
   "source": []
  },
  {
   "cell_type": "markdown",
   "metadata": {
    "collapsed": false
   },
   "source": [
    "## Random Forests"
   ]
  },
  {
   "cell_type": "code",
   "execution_count": null,
   "metadata": {
    "collapsed": false,
    "ExecuteTime": {
     "start_time": "2024-03-19T21:30:43.390098Z"
    }
   },
   "outputs": [],
   "source": [
    "rf_classifier = RandomForestClassifier(random_state=RANDOM_SEED)"
   ]
  },
  {
   "cell_type": "code",
   "execution_count": null,
   "metadata": {
    "collapsed": false,
    "ExecuteTime": {
     "start_time": "2024-03-19T21:30:43.396645Z"
    }
   },
   "outputs": [],
   "source": [
    "rf_scores = train_and_show_auc(rf_classifier, features, target)"
   ]
  },
  {
   "cell_type": "markdown",
   "metadata": {
    "collapsed": false
   },
   "source": [
    "## Gradient Boosting"
   ]
  },
  {
   "cell_type": "code",
   "execution_count": null,
   "metadata": {
    "collapsed": false,
    "ExecuteTime": {
     "start_time": "2024-03-19T21:30:43.404322Z"
    }
   },
   "outputs": [],
   "source": [
    "xgb_classifier = xgb.XGBClassifier(random_state=RANDOM_SEED)\n",
    "xgb_scores = train_and_show_auc(xgb_classifier, features, target)"
   ]
  },
  {
   "cell_type": "markdown",
   "metadata": {},
   "source": [
    "### xAI methods: Surrogate Model"
   ]
  },
  {
   "cell_type": "code",
   "execution_count": null,
   "metadata": {
    "ExecuteTime": {
     "start_time": "2024-03-19T21:30:43.411668Z"
    }
   },
   "outputs": [],
   "source": [
    "X_train, X_test, y_train, y_test = train_test_split(features, target, test_size=0.2, random_state=42)\n",
    "\n",
    "# Train the model\n",
    "xgb_classifier = xgb.XGBClassifier(random_state=RANDOM_SEED)\n",
    "xgb_classifier.fit(X_train, y_train)\n",
    "\n",
    "# Generate predictions using the XGBoost model\n",
    "xgb_predictions = xgb_classifier.predict(X_test)\n",
    "\n",
    "# Train a Decision Tree as the surrogate model\n",
    "surrogate_model = DecisionTreeClassifier(max_depth=3)  # Limiting tree depth for simplicity\n",
    "surrogate_model.fit(X_test, xgb_predictions)\n",
    "\n",
    "# Visualize the Decision Tree\n",
    "plt.figure(figsize=(20,10))\n",
    "plot_tree(surrogate_model, filled=True, feature_names=[f'Feature {i}' for i in range(features.shape[1])], class_names=True)\n",
    "plt.show()"
   ]
  },
  {
   "cell_type": "markdown",
   "source": [
    "### xAI methods: SHAP"
   ],
   "metadata": {
    "collapsed": false
   }
  },
  {
   "cell_type": "code",
   "outputs": [],
   "source": [
    "# Initialize SHAP explainer with the fitted model\n",
    "explainer = shap.Explainer(xgb_classifier)\n",
    "shap_values = explainer(X_test)\n",
    "\n",
    "# Plot global summary to understand the impact of each feature\n",
    "# Note that not all features are in here, only the ones with the greatest contributions\n",
    "shap.summary_plot(shap_values, X_test)"
   ],
   "metadata": {
    "collapsed": false,
    "ExecuteTime": {
     "start_time": "2024-03-19T21:30:43.416871Z"
    }
   }
  },
  {
   "cell_type": "code",
   "outputs": [],
   "source": [
    "# Can be compared to the other importances we found\n",
    "shap.plots.bar(shap_values, max_display=20)"
   ],
   "metadata": {
    "collapsed": false,
    "ExecuteTime": {
     "start_time": "2024-03-19T21:30:43.423417Z"
    }
   }
  },
  {
   "cell_type": "code",
   "outputs": [],
   "source": [
    "# Somehting strange here, why are the first instances of negative impact?\n",
    "shap.plots.heatmap(shap_values)"
   ],
   "metadata": {
    "collapsed": false,
    "ExecuteTime": {
     "start_time": "2024-03-19T21:30:43.427881Z"
    }
   }
  },
  {
   "cell_type": "markdown",
   "metadata": {
    "collapsed": false
   },
   "source": [
    "## SVM"
   ]
  },
  {
   "cell_type": "code",
   "execution_count": null,
   "metadata": {
    "collapsed": false,
    "ExecuteTime": {
     "start_time": "2024-03-19T21:30:43.432278Z"
    }
   },
   "outputs": [],
   "source": [
    "svm_classifier = SVC(random_state=RANDOM_SEED, probability=True)"
   ]
  },
  {
   "cell_type": "code",
   "execution_count": null,
   "metadata": {
    "collapsed": false,
    "ExecuteTime": {
     "start_time": "2024-03-19T21:30:43.436410Z"
    }
   },
   "outputs": [],
   "source": [
    "svm_scores = train_and_show_auc(svm_classifier, features, target)"
   ]
  },
  {
   "cell_type": "markdown",
   "metadata": {
    "collapsed": false
   },
   "source": [
    "## Logistic Regression"
   ]
  },
  {
   "cell_type": "code",
   "execution_count": null,
   "metadata": {
    "collapsed": false,
    "ExecuteTime": {
     "start_time": "2024-03-19T21:30:43.441638Z"
    }
   },
   "outputs": [],
   "source": [
    "lr_classifier = LogisticRegression(random_state=RANDOM_SEED, max_iter=1000)"
   ]
  },
  {
   "cell_type": "code",
   "execution_count": null,
   "metadata": {
    "collapsed": false,
    "ExecuteTime": {
     "start_time": "2024-03-19T21:30:43.446727Z"
    }
   },
   "outputs": [],
   "source": [
    "lr_scores = train_and_show_auc(lr_classifier, features, target)"
   ]
  },
  {
   "cell_type": "markdown",
   "metadata": {
    "collapsed": false
   },
   "source": [
    "## Neural Network"
   ]
  },
  {
   "cell_type": "code",
   "execution_count": null,
   "metadata": {
    "collapsed": false,
    "ExecuteTime": {
     "start_time": "2024-03-19T21:30:43.452394Z"
    }
   },
   "outputs": [],
   "source": [
    "mlp_classifier = MLPClassifier(random_state=RANDOM_SEED)"
   ]
  },
  {
   "cell_type": "code",
   "execution_count": null,
   "metadata": {
    "collapsed": false,
    "ExecuteTime": {
     "start_time": "2024-03-19T21:30:43.457306Z"
    }
   },
   "outputs": [],
   "source": [
    "mlp_scores = train_and_show_auc(mlp_classifier, features, target)"
   ]
  }
 ],
 "metadata": {
  "kernelspec": {
   "display_name": "Python 3",
   "language": "python",
   "name": "python3"
  },
  "language_info": {
   "codemirror_mode": {
    "name": "ipython",
    "version": 3
   },
   "file_extension": ".py",
   "mimetype": "text/x-python",
   "name": "python",
   "nbconvert_exporter": "python",
   "pygments_lexer": "ipython3",
   "version": "3.11.4"
  }
 },
 "nbformat": 4,
 "nbformat_minor": 0
}
